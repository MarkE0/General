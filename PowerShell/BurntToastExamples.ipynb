{
 "cells": [
  {
   "cell_type": "markdown",
   "metadata": {},
   "source": [
    "# BurntToast"
   ]
  },
  {
   "cell_type": "markdown",
   "metadata": {},
   "source": [
    "# Basic Syntax\n",
    "NOTE: To execute the below in a VSCode Jupyter Notebook with Windows PowerShell, encase in \"<code>PowerShell -Command '<_code_>'</code>\""
   ]
  },
  {
   "cell_type": "code",
   "execution_count": null,
   "metadata": {
    "dotnet_interactive": {
     "language": "pwsh"
    },
    "polyglot_notebook": {
     "kernelName": "pwsh"
    }
   },
   "outputs": [],
   "source": [
    "# New-BurntToastNotification -Text \"Header\",\"Main text\", \"More text below\" -Sound Alarm2 #-AppLogo \"C:\\temp\\mypic.jpeg\"\n",
    "\n",
    "# Alternative using splat\n",
    "powershell -Command '$Env:PSModulePath += \";C:\\Users\\$Env:USERNAME\\OneDrive\\My Documents\\WindowsPowerShell\\Modules\"\n",
    "\n",
    "$splat = @{\n",
    "    Text    = \"Take a break\", \"Its time for a 5 min break\"\n",
    "    # AppLogo = \"C:\\Temp\\image.jpg\"\n",
    "    Sound   = \"Alarm2\"\n",
    "}\n",
    "New-BurntToastNotification @Splat\n",
    "'"
   ]
  },
  {
   "cell_type": "markdown",
   "metadata": {},
   "source": [
    "# Buttons"
   ]
  },
  {
   "cell_type": "code",
   "execution_count": null,
   "metadata": {
    "dotnet_interactive": {
     "language": "pwsh"
    },
    "polyglot_notebook": {
     "kernelName": "pwsh"
    }
   },
   "outputs": [],
   "source": [
    "$splat = @{\n",
    "    # . . .\n",
    "    SnoozeAndDismiss = $true                   # Provide Snooze and Dismiss buttons.\n",
    "}\n",
    "\n",
    "$DDGButton = New-BTButton                      # Define a button.\n",
    "  -Content \"DuckDuckGo\"                        # Text shown with button.\n",
    "  -Arguments \"https://duckduckgo.com/\"         # File or link to action - links go to browser, files to default application.\n",
    "  -ImageUri \"C:\\Temp\\icon.jpg\"                 # Image shown on button (very small).\n",
    "$BingButton = New-BTButton                     # Define a button.\n",
    "  -Content \"Bing\"                              # Text shown with button.\n",
    "  -Arguments \"https://www.bing.com/#!\"         # File or link to action - links go to browser, files to default application.\n",
    "  -ImageUri \"C:\\Temp\\icon.jpg\"                 # Image shown on button (very small).\n",
    "\n",
    "$splat = @{\n",
    "    # . . .\n",
    "    Button = $DDGButton, $BingButton           # Include the button. Cannot use SnoozeAndDismiss with our own buttons.\n",
    "}"
   ]
  },
  {
   "cell_type": "markdown",
   "metadata": {},
   "source": [
    "## Progress Bars"
   ]
  },
  {
   "cell_type": "code",
   "execution_count": null,
   "metadata": {
    "dotnet_interactive": {
     "language": "pwsh"
    },
    "polyglot_notebook": {
     "kernelName": "pwsh"
    }
   },
   "outputs": [],
   "source": [
    "powershell -Command '$Env:PSModulePath += \";C:\\Users\\$Env:USERNAME\\OneDrive\\My Documents\\WindowsPowerShell\\Modules\"\n",
    "\n",
    "$Cyan    = New-BTProgressBar -Status \"Cyan\"    -Value \"0.75\"\n",
    "$Magenta = New-BTProgressBar -Status \"Magenta\" -Value \"0.9\"\n",
    "$Yellow  = New-BTProgressBar -Status \"Yellow\"  -Value \"0.5\"\n",
    "$Black   = New-BTProgressBar -Status \"Black\"   -Value \"0.09\"\n",
    "\n",
    "$splat = @{\n",
    "    ProgressBar = $Cyan, $Magenta, $Yellow, $Black\n",
    "}\n",
    "New-BurntToastNotification @splat\n",
    "'"
   ]
  },
  {
   "cell_type": "markdown",
   "metadata": {},
   "source": [
    "# Replace Notifications\n",
    "This causes a removal of the old notification, and display of the new."
   ]
  },
  {
   "cell_type": "code",
   "execution_count": null,
   "metadata": {
    "dotnet_interactive": {
     "language": "pwsh"
    },
    "polyglot_notebook": {
     "kernelName": "pwsh"
    }
   },
   "outputs": [],
   "source": [
    "powershell -Command '$Env:PSModulePath += \";C:\\Users\\$Env:USERNAME\\OneDrive\\My Documents\\WindowsPowerShell\\Modules\"\n",
    "$splat = @{\n",
    "    Text = \"Demo Replacement\",\n",
    "           \"This is the first example line of text\"\n",
    "    UniqueIdentifier = \"DemoReplace\"\n",
    "}\n",
    "\n",
    "New-BurntToastNotification @splat\n",
    "\n",
    "Start-Sleep -Seconds 1\n",
    "$splat[\"Text\"][1] = \"This is the second example line of text\"\n",
    "New-BurntToastNotification @splat\n",
    "\n",
    "Start-Sleep -Seconds 1\n",
    "$splat[\"Text\"][1] = \"This is the third example line of text\"\n",
    "New-BurntToastNotification @splat\n",
    "'"
   ]
  },
  {
   "cell_type": "markdown",
   "metadata": {},
   "source": [
    "# Update Notifications"
   ]
  },
  {
   "cell_type": "code",
   "execution_count": null,
   "metadata": {
    "dotnet_interactive": {
     "language": "pwsh"
    },
    "polyglot_notebook": {
     "kernelName": "pwsh"
    }
   },
   "outputs": [],
   "source": [
    "powershell -Command '$Env:PSModulePath += \";C:\\Users\\$Env:USERNAME\\OneDrive\\My Documents\\WindowsPowerShell\\Modules\"\n",
    "$Id = \"DemoUpdate\"\n",
    "\n",
    "$DataBinding = @{\n",
    "    HeadingPlaceholder = \"Demo Update\"\n",
    "    TextPlaceholder = \"This is the first example line of text\"\n",
    "}\n",
    "\n",
    "$splat = @{\n",
    "    Text = \"HeadingPlaceholder\",\"TextPlaceholder\"\n",
    "    UniqueIdentifier = $Id\n",
    "    DataBinding = $DataBinding\n",
    "}\n",
    "New-BurntToastNotification @splat\n",
    "\n",
    "Start-Sleep -Seconds 1\n",
    "$DataBinding[\"TextPlaceholder\"] = \"This is the second example line of text\"\n",
    "Update-BTNotification -UniqueIdentifier $Id -DataBinding $DataBinding\n",
    "\n",
    "Start-Sleep -Seconds 1\n",
    "$DataBinding[\"TextPlaceholder\"] = \"This is the third example line of text\"\n",
    "Update-BTNotification -UniqueIdentifier $Id -DataBinding $DataBinding\n",
    "'"
   ]
  },
  {
   "cell_type": "markdown",
   "metadata": {},
   "source": [
    "# Events\n",
    "These weren't working for me. Claimed to need PowerShell 7, but I can't get BurntToast working with that at all."
   ]
  },
  {
   "cell_type": "code",
   "execution_count": null,
   "metadata": {
    "dotnet_interactive": {
     "language": "pwsh"
    },
    "polyglot_notebook": {
     "kernelName": "pwsh"
    }
   },
   "outputs": [],
   "source": [
    "$Activated = {\n",
    "    Write-Warning \"Activated\"\n",
    "}\n",
    "\n",
    "$Dismissed = {\n",
    "    Write-Warning \"Dismissed\"\n",
    "}\n",
    "\n",
    "$sb = {\n",
    "    $Env:PSModulePath += \";C:\\Users\\$Env:USERNAME\\OneDrive\\My Documents\\WindowsPowerShell\\Modules\"\n",
    "    New-BurntToastNotification -ActivatedAction $Activated -DismissedAction $Dismissed\n",
    "}\n",
    "\n",
    "PowerShell -Command $sb    # NOT WORKING - NEED PS7.1 OR ABOVE?"
   ]
  }
 ],
 "metadata": {
  "kernelspec": {
   "display_name": ".NET (C#)",
   "language": "C#",
   "name": ".net-csharp"
  },
  "polyglot_notebook": {
   "kernelInfo": {
    "defaultKernelName": "csharp",
    "items": [
     {
      "aliases": [],
      "name": "csharp"
     }
    ]
   }
  }
 },
 "nbformat": 4,
 "nbformat_minor": 2
}
