{
 "cells": [
  {
   "cell_type": "markdown",
   "metadata": {
    "dotnet_interactive": {
     "language": "pwsh"
    },
    "polyglot_notebook": {
     "kernelName": "pwsh"
    }
   },
   "source": [
    "# Import Excel Examples\n",
    "YouTube: https://youtu.be/0bR-8b6OMTk?si=K8VbmwpshanGmolP"
   ]
  },
  {
   "cell_type": "markdown",
   "metadata": {},
   "source": [
    "## Basic Examples"
   ]
  },
  {
   "cell_type": "markdown",
   "metadata": {},
   "source": [
    "### Simple Export"
   ]
  },
  {
   "cell_type": "code",
   "execution_count": null,
   "metadata": {
    "dotnet_interactive": {
     "language": "pwsh"
    },
    "polyglot_notebook": {
     "kernelName": "pwsh"
    }
   },
   "outputs": [],
   "source": [
    "# Simple export (may get an error if there's a service with PermissionDenied)\n",
    "Get-Service | Export-Excel"
   ]
  },
  {
   "cell_type": "markdown",
   "metadata": {},
   "source": [
    "### Using some parameters"
   ]
  },
  {
   "cell_type": "code",
   "execution_count": null,
   "metadata": {
    "dotnet_interactive": {
     "language": "pwsh"
    },
    "polyglot_notebook": {
     "kernelName": "pwsh"
    }
   },
   "outputs": [],
   "source": [
    "# Export to a specific file, place a title at the top of the sheet, Name the table, and auto-size the columns.\n",
    "# Without the \"-Show\" parameter, the file will be saved to disk but not opened.\n",
    "$xlFile = \".\\MyTempFile.xlsx\"\n",
    "$TargetData = Get-Process | where Company | select Company, Name, Handles\n",
    "$Title = \"My Processes as of $(Get-Date)\"\n",
    "$targetData | Export-Excel -Path $xlFile -Title $Title -TableName \"Processes\" -AutoSize # -Show"
   ]
  },
  {
   "cell_type": "code",
   "execution_count": null,
   "metadata": {
    "dotnet_interactive": {
     "language": "pwsh"
    },
    "polyglot_notebook": {
     "kernelName": "pwsh"
    }
   },
   "outputs": [],
   "source": [
    "# Open the file\n",
    "Invoke-Item $xlFile"
   ]
  },
  {
   "cell_type": "code",
   "execution_count": null,
   "metadata": {
    "dotnet_interactive": {
     "language": "pwsh"
    },
    "polyglot_notebook": {
     "kernelName": "pwsh"
    }
   },
   "outputs": [],
   "source": [
    "# Remove the file\n",
    "rm $xlFile"
   ]
  },
  {
   "cell_type": "markdown",
   "metadata": {},
   "source": [
    "## Conditional Formatting\n",
    "Position in video: 0:36:20"
   ]
  },
  {
   "cell_type": "code",
   "execution_count": 17,
   "metadata": {
    "dotnet_interactive": {
     "language": "pwsh"
    },
    "polyglot_notebook": {
     "kernelName": "pwsh"
    }
   },
   "outputs": [],
   "source": [
    "$xlFile = \".\\MyTempFile.xlsx\"\n",
    "$data = Get-Service -Name \"[A-L]*\" | Select-Object -Property Status, Name, DisplayName, StartType\n",
    "\n",
    "# Basic hightlighting for cells with \"stop\" in them\n",
    "# $condition1 = New-ConditionalText \"stop\"\n",
    "\n",
    "# Applying multiple conditions. First: Highlight cells with \"stop\" in them.\n",
    "$condition1 = New-ConditionalText -ConditionalType ContainsText -ConditionValue \"stop\"\n",
    "# Second: Highlight cells with \"running\" in them with Blue text on a Cyan background.\n",
    "#   \"-Text X\" same as \"-ConditionalType ContainsText -ConditionValue X\"\n",
    "$condition2 = New-ConditionalText -Text \"running\" -ConditionalTextColor Blue -BackgroundColor Cyan\n",
    "# Third: Look for \"svc\" in column B only (range could be B:B or B1:B50) and highlight the cell with Wheat text on a Green background\n",
    "$condition3 = New-ConditionalText -ConditionalType ContainsText -ConditionValue \"svc\" -ConditionalTextColor Wheat -BackgroundColor Green -Range \"B:B\"\n",
    "\n",
    "$data | Export-Excel -Path $xlFile -AutoSize -Show -ConditionalText $condition1, $condition2, $condition3"
   ]
  },
  {
   "cell_type": "code",
   "execution_count": 18,
   "metadata": {
    "dotnet_interactive": {
     "language": "pwsh"
    },
    "polyglot_notebook": {
     "kernelName": "pwsh"
    }
   },
   "outputs": [],
   "source": [
    "# Remove the file. NOTE: If the file is not removed, the conditions will be duplicated on each run.\n",
    "rm $xlFile"
   ]
  },
  {
   "cell_type": "markdown",
   "metadata": {},
   "source": [
    "## Conditional Icons\n",
    "Position in video: 0:40:30"
   ]
  },
  {
   "cell_type": "code",
   "execution_count": null,
   "metadata": {
    "dotnet_interactive": {
     "language": "pwsh"
    },
    "polyglot_notebook": {
     "kernelName": "pwsh"
    }
   },
   "outputs": [],
   "source": [
    "# Conditional Icons.."
   ]
  }
 ],
 "metadata": {
  "kernelspec": {
   "display_name": ".NET (C#)",
   "language": "C#",
   "name": ".net-csharp"
  },
  "polyglot_notebook": {
   "kernelInfo": {
    "defaultKernelName": "csharp",
    "items": [
     {
      "aliases": [],
      "name": "csharp"
     },
     {
      "aliases": [],
      "languageName": "pwsh",
      "name": "pwsh"
     }
    ]
   }
  }
 },
 "nbformat": 4,
 "nbformat_minor": 2
}
