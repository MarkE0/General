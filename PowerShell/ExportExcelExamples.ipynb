{
 "cells": [
  {
   "cell_type": "markdown",
   "metadata": {
    "dotnet_interactive": {
     "language": "pwsh"
    },
    "polyglot_notebook": {
     "kernelName": "pwsh"
    }
   },
   "source": [
    "# Import Excel Examples"
   ]
  },
  {
   "cell_type": "markdown",
   "metadata": {},
   "source": [
    "## Basic Examples"
   ]
  },
  {
   "cell_type": "markdown",
   "metadata": {},
   "source": [
    "### Simple Export"
   ]
  },
  {
   "cell_type": "code",
   "execution_count": null,
   "metadata": {
    "dotnet_interactive": {
     "language": "pwsh"
    },
    "polyglot_notebook": {
     "kernelName": "pwsh"
    }
   },
   "outputs": [],
   "source": [
    "# Simple export (may get an error if there's a service with PermissionDenied)\n",
    "Get-Service | Export-Excel"
   ]
  },
  {
   "cell_type": "markdown",
   "metadata": {},
   "source": [
    "### Using some parameters"
   ]
  },
  {
   "cell_type": "code",
   "execution_count": null,
   "metadata": {
    "dotnet_interactive": {
     "language": "pwsh"
    },
    "polyglot_notebook": {
     "kernelName": "pwsh"
    }
   },
   "outputs": [],
   "source": [
    "# Export to a specific file, place a title at the top of the sheet, Name the table, and auto-size the columns.\n",
    "# Without the \"-Show\" parameter, the file will be saved to disk but not opened.\n",
    "$xlFile = \".\\MyTempFile.xlsx\"\n",
    "$TargetData = Get-Process | where Company | select Company, Name, Handles\n",
    "$Title = \"My Processes as of $(Get-Date)\"\n",
    "$targetData | Export-Excel -Path $xlFile -Title $Title -TableName \"Processes\" -AutoSize # -Show"
   ]
  },
  {
   "cell_type": "code",
   "execution_count": null,
   "metadata": {
    "dotnet_interactive": {
     "language": "pwsh"
    },
    "polyglot_notebook": {
     "kernelName": "pwsh"
    }
   },
   "outputs": [],
   "source": [
    "# Open the file\n",
    "Invoke-Item $xlFile"
   ]
  },
  {
   "cell_type": "code",
   "execution_count": null,
   "metadata": {
    "dotnet_interactive": {
     "language": "pwsh"
    },
    "polyglot_notebook": {
     "kernelName": "pwsh"
    }
   },
   "outputs": [],
   "source": [
    "# Remove the file\n",
    "rm $xlFile"
   ]
  },
  {
   "cell_type": "markdown",
   "metadata": {},
   "source": [
    "## Conditional Formatting"
   ]
  },
  {
   "cell_type": "code",
   "execution_count": 17,
   "metadata": {
    "dotnet_interactive": {
     "language": "pwsh"
    },
    "polyglot_notebook": {
     "kernelName": "pwsh"
    }
   },
   "outputs": [],
   "source": [
    "# Basic hightlighting for cells with \"stop\" in them.\n",
    "$xlFile = \".\\MyTempFile.xlsx\"\n",
    "$data = Get-Service -Name \"[A-L]*\" | Select-Object -Property Status, Name, DisplayName, StartType\n",
    "# $condition1 = New-ConditionalText \"stop\"\n",
    "$condition1 = New-ConditionalText -ConditionalType ContainsText -ConditionValue \"stop\"\n",
    "$condition2 = New-ConditionalText -Text \"running\" -ConditionalTextColor Blue -BackgroundColor Cyan # \"-Text X\" same as \"-ConditionalType ContainsText -ConditionValue X\"\n",
    "$condition3 = New-ConditionalText -ConditionalType ContainsText -ConditionValue \"svc\" -ConditionalTextColor Wheat -BackgroundColor Green -Range \"B:B\"\n",
    "\n",
    "$data | Export-Excel -Path $xlFile -AutoSize -Show -ConditionalText $condition1, $condition2, $condition3"
   ]
  },
  {
   "cell_type": "code",
   "execution_count": 18,
   "metadata": {
    "dotnet_interactive": {
     "language": "pwsh"
    },
    "polyglot_notebook": {
     "kernelName": "pwsh"
    }
   },
   "outputs": [],
   "source": [
    "# Remove the file. NOTE: If the file is not removed, the conditions will be duplicated on each run.\n",
    "rm $xlFile"
   ]
  },
  {
   "cell_type": "markdown",
   "metadata": {},
   "source": [
    "## Conditional Icons"
   ]
  },
  {
   "cell_type": "code",
   "execution_count": null,
   "metadata": {
    "dotnet_interactive": {
     "language": "pwsh"
    },
    "polyglot_notebook": {
     "kernelName": "pwsh"
    }
   },
   "outputs": [],
   "source": [
    "# Conditional Icons.."
   ]
  }
 ],
 "metadata": {
  "kernelspec": {
   "display_name": ".NET (C#)",
   "language": "C#",
   "name": ".net-csharp"
  },
  "polyglot_notebook": {
   "kernelInfo": {
    "defaultKernelName": "csharp",
    "items": [
     {
      "aliases": [],
      "name": "csharp"
     },
     {
      "aliases": [],
      "languageName": "pwsh",
      "name": "pwsh"
     }
    ]
   }
  }
 },
 "nbformat": 4,
 "nbformat_minor": 2
}
